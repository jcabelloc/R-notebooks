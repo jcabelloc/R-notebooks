{
 "cells": [
  {
   "cell_type": "markdown",
   "metadata": {},
   "source": [
    "## Problem 2\n",
    "\n",
    "This problem uses the OJ data set in the ISLR package."
   ]
  },
  {
   "cell_type": "markdown",
   "metadata": {},
   "source": [
    "**Description** \n",
    "\n",
    "The data contains 1070 purchases where the customer either purchased Citrus Hill or Minute Maid Orange Juice. A number of characteristics of the customer and product are recorded."
   ]
  },
  {
   "cell_type": "code",
   "execution_count": 1,
   "metadata": {},
   "outputs": [
    {
     "data": {
      "text/html": [
       "<ol class=list-inline>\n",
       "\t<li>'Purchase'</li>\n",
       "\t<li>'WeekofPurchase'</li>\n",
       "\t<li>'StoreID'</li>\n",
       "\t<li>'PriceCH'</li>\n",
       "\t<li>'PriceMM'</li>\n",
       "\t<li>'DiscCH'</li>\n",
       "\t<li>'DiscMM'</li>\n",
       "\t<li>'SpecialCH'</li>\n",
       "\t<li>'SpecialMM'</li>\n",
       "\t<li>'LoyalCH'</li>\n",
       "\t<li>'SalePriceMM'</li>\n",
       "\t<li>'SalePriceCH'</li>\n",
       "\t<li>'PriceDiff'</li>\n",
       "\t<li>'Store7'</li>\n",
       "\t<li>'PctDiscMM'</li>\n",
       "\t<li>'PctDiscCH'</li>\n",
       "\t<li>'ListPriceDiff'</li>\n",
       "\t<li>'STORE'</li>\n",
       "</ol>\n"
      ],
      "text/latex": [
       "\\begin{enumerate*}\n",
       "\\item 'Purchase'\n",
       "\\item 'WeekofPurchase'\n",
       "\\item 'StoreID'\n",
       "\\item 'PriceCH'\n",
       "\\item 'PriceMM'\n",
       "\\item 'DiscCH'\n",
       "\\item 'DiscMM'\n",
       "\\item 'SpecialCH'\n",
       "\\item 'SpecialMM'\n",
       "\\item 'LoyalCH'\n",
       "\\item 'SalePriceMM'\n",
       "\\item 'SalePriceCH'\n",
       "\\item 'PriceDiff'\n",
       "\\item 'Store7'\n",
       "\\item 'PctDiscMM'\n",
       "\\item 'PctDiscCH'\n",
       "\\item 'ListPriceDiff'\n",
       "\\item 'STORE'\n",
       "\\end{enumerate*}\n"
      ],
      "text/markdown": [
       "1. 'Purchase'\n",
       "2. 'WeekofPurchase'\n",
       "3. 'StoreID'\n",
       "4. 'PriceCH'\n",
       "5. 'PriceMM'\n",
       "6. 'DiscCH'\n",
       "7. 'DiscMM'\n",
       "8. 'SpecialCH'\n",
       "9. 'SpecialMM'\n",
       "10. 'LoyalCH'\n",
       "11. 'SalePriceMM'\n",
       "12. 'SalePriceCH'\n",
       "13. 'PriceDiff'\n",
       "14. 'Store7'\n",
       "15. 'PctDiscMM'\n",
       "16. 'PctDiscCH'\n",
       "17. 'ListPriceDiff'\n",
       "18. 'STORE'\n",
       "\n",
       "\n"
      ],
      "text/plain": [
       " [1] \"Purchase\"       \"WeekofPurchase\" \"StoreID\"        \"PriceCH\"       \n",
       " [5] \"PriceMM\"        \"DiscCH\"         \"DiscMM\"         \"SpecialCH\"     \n",
       " [9] \"SpecialMM\"      \"LoyalCH\"        \"SalePriceMM\"    \"SalePriceCH\"   \n",
       "[13] \"PriceDiff\"      \"Store7\"         \"PctDiscMM\"      \"PctDiscCH\"     \n",
       "[17] \"ListPriceDiff\"  \"STORE\"         "
      ]
     },
     "metadata": {},
     "output_type": "display_data"
    }
   ],
   "source": [
    "# Attaching the dataset and then exploring the data\n",
    "library(ISLR)\n",
    "attach(OJ)\n",
    "names(OJ)"
   ]
  },
  {
   "cell_type": "code",
   "execution_count": 2,
   "metadata": {},
   "outputs": [
    {
     "data": {
      "text/html": [
       "<table>\n",
       "<thead><tr><th scope=col>Purchase</th><th scope=col>WeekofPurchase</th><th scope=col>StoreID</th><th scope=col>PriceCH</th><th scope=col>PriceMM</th><th scope=col>DiscCH</th><th scope=col>DiscMM</th><th scope=col>SpecialCH</th><th scope=col>SpecialMM</th><th scope=col>LoyalCH</th><th scope=col>SalePriceMM</th><th scope=col>SalePriceCH</th><th scope=col>PriceDiff</th><th scope=col>Store7</th><th scope=col>PctDiscMM</th><th scope=col>PctDiscCH</th><th scope=col>ListPriceDiff</th><th scope=col>STORE</th></tr></thead>\n",
       "<tbody>\n",
       "\t<tr><td>CH      </td><td>237     </td><td>1       </td><td>1.75    </td><td>1.99    </td><td>0.00    </td><td>0.0     </td><td>0       </td><td>0       </td><td>0.500000</td><td>1.99    </td><td>1.75    </td><td> 0.24   </td><td>No      </td><td>0.000000</td><td>0.000000</td><td>0.24    </td><td>1       </td></tr>\n",
       "\t<tr><td>CH      </td><td>239     </td><td>1       </td><td>1.75    </td><td>1.99    </td><td>0.00    </td><td>0.3     </td><td>0       </td><td>1       </td><td>0.600000</td><td>1.69    </td><td>1.75    </td><td>-0.06   </td><td>No      </td><td>0.150754</td><td>0.000000</td><td>0.24    </td><td>1       </td></tr>\n",
       "\t<tr><td>CH      </td><td>245     </td><td>1       </td><td>1.86    </td><td>2.09    </td><td>0.17    </td><td>0.0     </td><td>0       </td><td>0       </td><td>0.680000</td><td>2.09    </td><td>1.69    </td><td> 0.40   </td><td>No      </td><td>0.000000</td><td>0.091398</td><td>0.23    </td><td>1       </td></tr>\n",
       "\t<tr><td>MM      </td><td>227     </td><td>1       </td><td>1.69    </td><td>1.69    </td><td>0.00    </td><td>0.0     </td><td>0       </td><td>0       </td><td>0.400000</td><td>1.69    </td><td>1.69    </td><td> 0.00   </td><td>No      </td><td>0.000000</td><td>0.000000</td><td>0.00    </td><td>1       </td></tr>\n",
       "\t<tr><td>CH      </td><td>228     </td><td>7       </td><td>1.69    </td><td>1.69    </td><td>0.00    </td><td>0.0     </td><td>0       </td><td>0       </td><td>0.956535</td><td>1.69    </td><td>1.69    </td><td> 0.00   </td><td>Yes     </td><td>0.000000</td><td>0.000000</td><td>0.00    </td><td>0       </td></tr>\n",
       "\t<tr><td>CH      </td><td>230     </td><td>7       </td><td>1.69    </td><td>1.99    </td><td>0.00    </td><td>0.0     </td><td>0       </td><td>1       </td><td>0.965228</td><td>1.99    </td><td>1.69    </td><td> 0.30   </td><td>Yes     </td><td>0.000000</td><td>0.000000</td><td>0.30    </td><td>0       </td></tr>\n",
       "</tbody>\n",
       "</table>\n"
      ],
      "text/latex": [
       "\\begin{tabular}{r|llllllllllllllllll}\n",
       " Purchase & WeekofPurchase & StoreID & PriceCH & PriceMM & DiscCH & DiscMM & SpecialCH & SpecialMM & LoyalCH & SalePriceMM & SalePriceCH & PriceDiff & Store7 & PctDiscMM & PctDiscCH & ListPriceDiff & STORE\\\\\n",
       "\\hline\n",
       "\t CH       & 237      & 1        & 1.75     & 1.99     & 0.00     & 0.0      & 0        & 0        & 0.500000 & 1.99     & 1.75     &  0.24    & No       & 0.000000 & 0.000000 & 0.24     & 1       \\\\\n",
       "\t CH       & 239      & 1        & 1.75     & 1.99     & 0.00     & 0.3      & 0        & 1        & 0.600000 & 1.69     & 1.75     & -0.06    & No       & 0.150754 & 0.000000 & 0.24     & 1       \\\\\n",
       "\t CH       & 245      & 1        & 1.86     & 2.09     & 0.17     & 0.0      & 0        & 0        & 0.680000 & 2.09     & 1.69     &  0.40    & No       & 0.000000 & 0.091398 & 0.23     & 1       \\\\\n",
       "\t MM       & 227      & 1        & 1.69     & 1.69     & 0.00     & 0.0      & 0        & 0        & 0.400000 & 1.69     & 1.69     &  0.00    & No       & 0.000000 & 0.000000 & 0.00     & 1       \\\\\n",
       "\t CH       & 228      & 7        & 1.69     & 1.69     & 0.00     & 0.0      & 0        & 0        & 0.956535 & 1.69     & 1.69     &  0.00    & Yes      & 0.000000 & 0.000000 & 0.00     & 0       \\\\\n",
       "\t CH       & 230      & 7        & 1.69     & 1.99     & 0.00     & 0.0      & 0        & 1        & 0.965228 & 1.99     & 1.69     &  0.30    & Yes      & 0.000000 & 0.000000 & 0.30     & 0       \\\\\n",
       "\\end{tabular}\n"
      ],
      "text/markdown": [
       "\n",
       "Purchase | WeekofPurchase | StoreID | PriceCH | PriceMM | DiscCH | DiscMM | SpecialCH | SpecialMM | LoyalCH | SalePriceMM | SalePriceCH | PriceDiff | Store7 | PctDiscMM | PctDiscCH | ListPriceDiff | STORE | \n",
       "|---|---|---|---|---|---|\n",
       "| CH       | 237      | 1        | 1.75     | 1.99     | 0.00     | 0.0      | 0        | 0        | 0.500000 | 1.99     | 1.75     |  0.24    | No       | 0.000000 | 0.000000 | 0.24     | 1        | \n",
       "| CH       | 239      | 1        | 1.75     | 1.99     | 0.00     | 0.3      | 0        | 1        | 0.600000 | 1.69     | 1.75     | -0.06    | No       | 0.150754 | 0.000000 | 0.24     | 1        | \n",
       "| CH       | 245      | 1        | 1.86     | 2.09     | 0.17     | 0.0      | 0        | 0        | 0.680000 | 2.09     | 1.69     |  0.40    | No       | 0.000000 | 0.091398 | 0.23     | 1        | \n",
       "| MM       | 227      | 1        | 1.69     | 1.69     | 0.00     | 0.0      | 0        | 0        | 0.400000 | 1.69     | 1.69     |  0.00    | No       | 0.000000 | 0.000000 | 0.00     | 1        | \n",
       "| CH       | 228      | 7        | 1.69     | 1.69     | 0.00     | 0.0      | 0        | 0        | 0.956535 | 1.69     | 1.69     |  0.00    | Yes      | 0.000000 | 0.000000 | 0.00     | 0        | \n",
       "| CH       | 230      | 7        | 1.69     | 1.99     | 0.00     | 0.0      | 0        | 1        | 0.965228 | 1.99     | 1.69     |  0.30    | Yes      | 0.000000 | 0.000000 | 0.30     | 0        | \n",
       "\n",
       "\n"
      ],
      "text/plain": [
       "  Purchase WeekofPurchase StoreID PriceCH PriceMM DiscCH DiscMM SpecialCH\n",
       "1 CH       237            1       1.75    1.99    0.00   0.0    0        \n",
       "2 CH       239            1       1.75    1.99    0.00   0.3    0        \n",
       "3 CH       245            1       1.86    2.09    0.17   0.0    0        \n",
       "4 MM       227            1       1.69    1.69    0.00   0.0    0        \n",
       "5 CH       228            7       1.69    1.69    0.00   0.0    0        \n",
       "6 CH       230            7       1.69    1.99    0.00   0.0    0        \n",
       "  SpecialMM LoyalCH  SalePriceMM SalePriceCH PriceDiff Store7 PctDiscMM\n",
       "1 0         0.500000 1.99        1.75         0.24     No     0.000000 \n",
       "2 1         0.600000 1.69        1.75        -0.06     No     0.150754 \n",
       "3 0         0.680000 2.09        1.69         0.40     No     0.000000 \n",
       "4 0         0.400000 1.69        1.69         0.00     No     0.000000 \n",
       "5 0         0.956535 1.69        1.69         0.00     Yes    0.000000 \n",
       "6 1         0.965228 1.99        1.69         0.30     Yes    0.000000 \n",
       "  PctDiscCH ListPriceDiff STORE\n",
       "1 0.000000  0.24          1    \n",
       "2 0.000000  0.24          1    \n",
       "3 0.091398  0.23          1    \n",
       "4 0.000000  0.00          1    \n",
       "5 0.000000  0.00          0    \n",
       "6 0.000000  0.30          0    "
      ]
     },
     "metadata": {},
     "output_type": "display_data"
    }
   ],
   "source": [
    "head(OJ)"
   ]
  },
  {
   "cell_type": "code",
   "execution_count": 3,
   "metadata": {},
   "outputs": [
    {
     "data": {
      "text/plain": [
       " Purchase WeekofPurchase     StoreID        PriceCH         PriceMM     \n",
       " CH:653   Min.   :227.0   Min.   :1.00   Min.   :1.690   Min.   :1.690  \n",
       " MM:417   1st Qu.:240.0   1st Qu.:2.00   1st Qu.:1.790   1st Qu.:1.990  \n",
       "          Median :257.0   Median :3.00   Median :1.860   Median :2.090  \n",
       "          Mean   :254.4   Mean   :3.96   Mean   :1.867   Mean   :2.085  \n",
       "          3rd Qu.:268.0   3rd Qu.:7.00   3rd Qu.:1.990   3rd Qu.:2.180  \n",
       "          Max.   :278.0   Max.   :7.00   Max.   :2.090   Max.   :2.290  \n",
       "     DiscCH            DiscMM         SpecialCH        SpecialMM     \n",
       " Min.   :0.00000   Min.   :0.0000   Min.   :0.0000   Min.   :0.0000  \n",
       " 1st Qu.:0.00000   1st Qu.:0.0000   1st Qu.:0.0000   1st Qu.:0.0000  \n",
       " Median :0.00000   Median :0.0000   Median :0.0000   Median :0.0000  \n",
       " Mean   :0.05186   Mean   :0.1234   Mean   :0.1477   Mean   :0.1617  \n",
       " 3rd Qu.:0.00000   3rd Qu.:0.2300   3rd Qu.:0.0000   3rd Qu.:0.0000  \n",
       " Max.   :0.50000   Max.   :0.8000   Max.   :1.0000   Max.   :1.0000  \n",
       "    LoyalCH          SalePriceMM     SalePriceCH      PriceDiff       Store7   \n",
       " Min.   :0.000011   Min.   :1.190   Min.   :1.390   Min.   :-0.6700   No :714  \n",
       " 1st Qu.:0.325257   1st Qu.:1.690   1st Qu.:1.750   1st Qu.: 0.0000   Yes:356  \n",
       " Median :0.600000   Median :2.090   Median :1.860   Median : 0.2300            \n",
       " Mean   :0.565782   Mean   :1.962   Mean   :1.816   Mean   : 0.1465            \n",
       " 3rd Qu.:0.850873   3rd Qu.:2.130   3rd Qu.:1.890   3rd Qu.: 0.3200            \n",
       " Max.   :0.999947   Max.   :2.290   Max.   :2.090   Max.   : 0.6400            \n",
       "   PctDiscMM        PctDiscCH       ListPriceDiff       STORE      \n",
       " Min.   :0.0000   Min.   :0.00000   Min.   :0.000   Min.   :0.000  \n",
       " 1st Qu.:0.0000   1st Qu.:0.00000   1st Qu.:0.140   1st Qu.:0.000  \n",
       " Median :0.0000   Median :0.00000   Median :0.240   Median :2.000  \n",
       " Mean   :0.0593   Mean   :0.02731   Mean   :0.218   Mean   :1.631  \n",
       " 3rd Qu.:0.1127   3rd Qu.:0.00000   3rd Qu.:0.300   3rd Qu.:3.000  \n",
       " Max.   :0.4020   Max.   :0.25269   Max.   :0.440   Max.   :4.000  "
      ]
     },
     "metadata": {},
     "output_type": "display_data"
    }
   ],
   "source": [
    "summary(OJ)"
   ]
  },
  {
   "cell_type": "markdown",
   "metadata": {},
   "source": [
    "### a) Create a training set containing a random sample of 800 observations, and a test set containing the remaining observations."
   ]
  },
  {
   "cell_type": "code",
   "execution_count": 83,
   "metadata": {},
   "outputs": [],
   "source": [
    "set.seed(1)\n",
    "n = length(OJ$Purchase)\n",
    "train = sample(n, 800)\n",
    "train_df = OJ[train,]\n",
    "test_df = OJ[-train,]"
   ]
  },
  {
   "cell_type": "code",
   "execution_count": 84,
   "metadata": {},
   "outputs": [
    {
     "data": {
      "text/html": [
       "<ol class=list-inline>\n",
       "\t<li>800</li>\n",
       "\t<li>18</li>\n",
       "</ol>\n"
      ],
      "text/latex": [
       "\\begin{enumerate*}\n",
       "\\item 800\n",
       "\\item 18\n",
       "\\end{enumerate*}\n"
      ],
      "text/markdown": [
       "1. 800\n",
       "2. 18\n",
       "\n",
       "\n"
      ],
      "text/plain": [
       "[1] 800  18"
      ]
     },
     "metadata": {},
     "output_type": "display_data"
    },
    {
     "data": {
      "text/html": [
       "<ol class=list-inline>\n",
       "\t<li>270</li>\n",
       "\t<li>18</li>\n",
       "</ol>\n"
      ],
      "text/latex": [
       "\\begin{enumerate*}\n",
       "\\item 270\n",
       "\\item 18\n",
       "\\end{enumerate*}\n"
      ],
      "text/markdown": [
       "1. 270\n",
       "2. 18\n",
       "\n",
       "\n"
      ],
      "text/plain": [
       "[1] 270  18"
      ]
     },
     "metadata": {},
     "output_type": "display_data"
    }
   ],
   "source": [
    "dim(train_df)\n",
    "dim(test_df)"
   ]
  },
  {
   "cell_type": "markdown",
   "metadata": {},
   "source": [
    "### b) Fit a support vector classifier to the training data using cost=0.01, with Purchase as the response and the other variables as predictors. Use the summary() function to produce summary statistics, and describe the results obtained."
   ]
  },
  {
   "cell_type": "code",
   "execution_count": 85,
   "metadata": {},
   "outputs": [],
   "source": [
    "# install.packages(\"e1071\", \"C:/Users/jcabelloc/Anaconda3/Lib/R/library\")\n",
    "library(\"e1071\")"
   ]
  },
  {
   "cell_type": "code",
   "execution_count": 86,
   "metadata": {},
   "outputs": [],
   "source": [
    "svmfit = svm(Purchase~., data=OJ[train,], kernel=\"linear\", cost=0.01, scale=TRUE)"
   ]
  },
  {
   "cell_type": "code",
   "execution_count": 87,
   "metadata": {},
   "outputs": [
    {
     "data": {
      "text/plain": [
       "\n",
       "Call:\n",
       "svm(formula = Purchase ~ ., data = OJ[train, ], kernel = \"linear\", \n",
       "    cost = 0.01, scale = TRUE)\n",
       "\n",
       "\n",
       "Parameters:\n",
       "   SVM-Type:  C-classification \n",
       " SVM-Kernel:  linear \n",
       "       cost:  0.01 \n",
       "      gamma:  0.05555556 \n",
       "\n",
       "Number of Support Vectors:  432\n",
       "\n",
       " ( 215 217 )\n",
       "\n",
       "\n",
       "Number of Classes:  2 \n",
       "\n",
       "Levels: \n",
       " CH MM\n",
       "\n",
       "\n"
      ]
     },
     "metadata": {},
     "output_type": "display_data"
    }
   ],
   "source": [
    "summary(svmfit)"
   ]
  },
  {
   "cell_type": "markdown",
   "metadata": {},
   "source": [
    "### Comments\n",
    "* The number of support vectors is relatively high. From the 800 data points, 432 is the number of support vectors"
   ]
  },
  {
   "cell_type": "markdown",
   "metadata": {},
   "source": [
    "### c) What are the training and test error rates?"
   ]
  },
  {
   "cell_type": "code",
   "execution_count": 89,
   "metadata": {},
   "outputs": [
    {
     "data": {
      "text/plain": [
       "       truth\n",
       "predict  CH  MM\n",
       "     CH 439  78\n",
       "     MM  55 228"
      ]
     },
     "metadata": {},
     "output_type": "display_data"
    }
   ],
   "source": [
    "ypred = predict(svmfit, OJ[train,])\n",
    "table(predict=ypred, truth=OJ[train,]$Purchase)"
   ]
  },
  {
   "cell_type": "code",
   "execution_count": 90,
   "metadata": {},
   "outputs": [
    {
     "name": "stdout",
     "output_type": "stream",
     "text": [
      "train_error_rate:  0.16625"
     ]
    }
   ],
   "source": [
    "train_error_rate = (55+78)/length(ypred)\n",
    "cat('train_error_rate: ', train_error_rate)"
   ]
  },
  {
   "cell_type": "code",
   "execution_count": 94,
   "metadata": {},
   "outputs": [
    {
     "data": {
      "text/plain": [
       "       truth\n",
       "predict  CH  MM\n",
       "     CH 141  31\n",
       "     MM  18  80"
      ]
     },
     "metadata": {},
     "output_type": "display_data"
    }
   ],
   "source": [
    "ypred = predict(svmfit, OJ[-train,])\n",
    "table(predict=ypred, truth=OJ[-train,]$Purchase)"
   ]
  },
  {
   "cell_type": "code",
   "execution_count": 95,
   "metadata": {},
   "outputs": [
    {
     "name": "stdout",
     "output_type": "stream",
     "text": [
      "test_error_rate:  0.1814815"
     ]
    }
   ],
   "source": [
    "test_error_rate = (18+31)/length(ypred)\n",
    "cat('test_error_rate: ', test_error_rate)"
   ]
  },
  {
   "cell_type": "markdown",
   "metadata": {},
   "source": [
    "### Comment\n",
    "* train_error_rate:  0.16625 and test_error_rate:  0.1814815"
   ]
  },
  {
   "cell_type": "markdown",
   "metadata": {},
   "source": [
    "### d) Use the tune() function to select an optimal cost. Consider value in the range 0.01 to 10."
   ]
  },
  {
   "cell_type": "code",
   "execution_count": 96,
   "metadata": {},
   "outputs": [],
   "source": [
    "costs = c(0.001, 0.01, 0.1, 1, 10, 100)\n",
    "tune.out = tune(svm, Purchase~., data=OJ[train,], kernel=\"linear\", ranges=list(cost=costs))"
   ]
  },
  {
   "cell_type": "code",
   "execution_count": 97,
   "metadata": {},
   "outputs": [
    {
     "data": {
      "text/plain": [
       "\n",
       "Parameter tuning of 'svm':\n",
       "\n",
       "- sampling method: 10-fold cross validation \n",
       "\n",
       "- best parameters:\n",
       " cost\n",
       "  0.1\n",
       "\n",
       "- best performance: 0.1625 \n",
       "\n",
       "- Detailed performance results:\n",
       "   cost   error dispersion\n",
       "1 1e-03 0.34250 0.04937104\n",
       "2 1e-02 0.16625 0.05138701\n",
       "3 1e-01 0.16250 0.04894725\n",
       "4 1e+00 0.16875 0.04723243\n",
       "5 1e+01 0.16500 0.04993051\n",
       "6 1e+02 0.17000 0.05277047\n"
      ]
     },
     "metadata": {},
     "output_type": "display_data"
    }
   ],
   "source": [
    "summary(tune.out)"
   ]
  },
  {
   "cell_type": "markdown",
   "metadata": {},
   "source": [
    "### Comment\n",
    "* The optimal cost for those costs considered is cost = 0.1"
   ]
  },
  {
   "cell_type": "markdown",
   "metadata": {},
   "source": [
    "### (e) Compute the training and test error rates using this new value for cost."
   ]
  },
  {
   "cell_type": "code",
   "execution_count": 98,
   "metadata": {},
   "outputs": [
    {
     "data": {
      "text/plain": [
       "       truth\n",
       "predict  CH  MM\n",
       "     CH 438  71\n",
       "     MM  56 235"
      ]
     },
     "metadata": {},
     "output_type": "display_data"
    }
   ],
   "source": [
    "bestmod = tune.out$best.model\n",
    "ypred = predict(bestmod, OJ[train,])\n",
    "table(predict=ypred, truth=OJ[train,]$Purchase)"
   ]
  },
  {
   "cell_type": "code",
   "execution_count": 99,
   "metadata": {},
   "outputs": [
    {
     "name": "stdout",
     "output_type": "stream",
     "text": [
      "train_error_rate:  0.15875"
     ]
    }
   ],
   "source": [
    "train_error_rate = (56+71)/length(ypred)\n",
    "cat('train_error_rate: ', train_error_rate)"
   ]
  },
  {
   "cell_type": "code",
   "execution_count": 100,
   "metadata": {},
   "outputs": [
    {
     "data": {
      "text/plain": [
       "       truth\n",
       "predict  CH  MM\n",
       "     CH 140  32\n",
       "     MM  19  79"
      ]
     },
     "metadata": {},
     "output_type": "display_data"
    }
   ],
   "source": [
    "ypred = predict(bestmod, OJ[-train,])\n",
    "table(predict=ypred, truth=OJ[-train,]$Purchase)"
   ]
  },
  {
   "cell_type": "code",
   "execution_count": 113,
   "metadata": {},
   "outputs": [
    {
     "name": "stdout",
     "output_type": "stream",
     "text": [
      "test_error_rate:  0.1888889"
     ]
    }
   ],
   "source": [
    "test_error_rate = (19+32)/length(ypred)\n",
    "cat('test_error_rate: ', test_error_rate)"
   ]
  },
  {
   "cell_type": "markdown",
   "metadata": {},
   "source": [
    "### Comment\n",
    "* train_error_rate:  0.15875 and test_error_rate:  0.1888889"
   ]
  },
  {
   "cell_type": "markdown",
   "metadata": {},
   "source": [
    "### f) Repeat parts (b) through (e) using a support vector machine with a radial kernel. Use the tune() function to select an optimal cost and gamma."
   ]
  },
  {
   "cell_type": "code",
   "execution_count": 102,
   "metadata": {},
   "outputs": [],
   "source": [
    "gammas = c(0.5,1,2,3,4)\n",
    "costs = c(0.001, 0.01, 0.1, 1, 10, 100, 1000)\n",
    "tune.out = tune(svm, Purchase~., data = OJ[train,], kernel = \"radial\", ranges = list(cost=costs, gamma = gammas))"
   ]
  },
  {
   "cell_type": "code",
   "execution_count": 103,
   "metadata": {},
   "outputs": [
    {
     "data": {
      "text/plain": [
       "\n",
       "Parameter tuning of 'svm':\n",
       "\n",
       "- sampling method: 10-fold cross validation \n",
       "\n",
       "- best parameters:\n",
       " cost gamma\n",
       "    1   0.5\n",
       "\n",
       "- best performance: 0.205 \n",
       "\n",
       "- Detailed performance results:\n",
       "    cost gamma   error dispersion\n",
       "1  1e-03   0.5 0.38250 0.06800735\n",
       "2  1e-02   0.5 0.38250 0.06800735\n",
       "3  1e-01   0.5 0.29000 0.06816035\n",
       "4  1e+00   0.5 0.20500 0.03291403\n",
       "5  1e+01   0.5 0.21000 0.05394184\n",
       "6  1e+02   0.5 0.24125 0.03586723\n",
       "7  1e+03   0.5 0.24250 0.02898755\n",
       "8  1e-03   1.0 0.38250 0.06800735\n",
       "9  1e-02   1.0 0.38250 0.06800735\n",
       "10 1e-01   1.0 0.33750 0.06066758\n",
       "11 1e+00   1.0 0.21625 0.03682259\n",
       "12 1e+01   1.0 0.23000 0.04794383\n",
       "13 1e+02   1.0 0.24750 0.04031129\n",
       "14 1e+03   1.0 0.24500 0.04417453\n",
       "15 1e-03   2.0 0.38250 0.06800735\n",
       "16 1e-02   2.0 0.38250 0.06800735\n",
       "17 1e-01   2.0 0.36875 0.06620937\n",
       "18 1e+00   2.0 0.23000 0.03291403\n",
       "19 1e+01   2.0 0.24500 0.03496029\n",
       "20 1e+02   2.0 0.25125 0.03458584\n",
       "21 1e+03   2.0 0.26875 0.04535738\n",
       "22 1e-03   3.0 0.38250 0.06800735\n",
       "23 1e-02   3.0 0.38250 0.06800735\n",
       "24 1e-01   3.0 0.37625 0.06832571\n",
       "25 1e+00   3.0 0.23750 0.03864008\n",
       "26 1e+01   3.0 0.24625 0.03955042\n",
       "27 1e+02   3.0 0.26125 0.03557562\n",
       "28 1e+03   3.0 0.26375 0.05050096\n",
       "29 1e-03   4.0 0.38250 0.06800735\n",
       "30 1e-02   4.0 0.38250 0.06800735\n",
       "31 1e-01   4.0 0.37875 0.06719840\n",
       "32 1e+00   4.0 0.24000 0.03322900\n",
       "33 1e+01   4.0 0.24500 0.04495368\n",
       "34 1e+02   4.0 0.26500 0.04594683\n",
       "35 1e+03   4.0 0.26375 0.05252314\n"
      ]
     },
     "metadata": {},
     "output_type": "display_data"
    }
   ],
   "source": [
    "summary(tune.out)"
   ]
  },
  {
   "cell_type": "markdown",
   "metadata": {},
   "source": [
    "### Comment\n",
    "* The best model is obtained when cost = 1 and gamma = 0.5"
   ]
  },
  {
   "cell_type": "code",
   "execution_count": 106,
   "metadata": {},
   "outputs": [
    {
     "data": {
      "text/plain": [
       "       truth\n",
       "predict  CH  MM\n",
       "     CH 455  63\n",
       "     MM  39 243"
      ]
     },
     "metadata": {},
     "output_type": "display_data"
    }
   ],
   "source": [
    "bestmod = tune.out$best.model\n",
    "ypred = predict(bestmod, OJ[train,])\n",
    "table(predict=ypred, truth=OJ[train,]$Purchase)"
   ]
  },
  {
   "cell_type": "code",
   "execution_count": 108,
   "metadata": {},
   "outputs": [
    {
     "name": "stdout",
     "output_type": "stream",
     "text": [
      "train_error_rate:  0.1275"
     ]
    }
   ],
   "source": [
    "train_error_rate = (39+63)/length(ypred)\n",
    "cat('train_error_rate: ', train_error_rate)"
   ]
  },
  {
   "cell_type": "code",
   "execution_count": 109,
   "metadata": {},
   "outputs": [
    {
     "data": {
      "text/plain": [
       "       truth\n",
       "predict  CH  MM\n",
       "     CH 137  33\n",
       "     MM  22  78"
      ]
     },
     "metadata": {},
     "output_type": "display_data"
    }
   ],
   "source": [
    "ypred = predict(bestmod, OJ[-train,])\n",
    "table(predict=ypred, truth=OJ[-train,]$Purchase)"
   ]
  },
  {
   "cell_type": "code",
   "execution_count": 114,
   "metadata": {},
   "outputs": [
    {
     "name": "stdout",
     "output_type": "stream",
     "text": [
      "test_error_rate:  0.2037037"
     ]
    }
   ],
   "source": [
    "test_error_rate = (22+33)/length(ypred)\n",
    "cat('test_error_rate: ', test_error_rate)"
   ]
  },
  {
   "cell_type": "markdown",
   "metadata": {},
   "source": [
    "### Comment\n",
    "* The new best model is showing overfitting, since we have obtained a smalles train_error_rate but a greater test_error_rate"
   ]
  },
  {
   "cell_type": "markdown",
   "metadata": {},
   "source": [
    "### g) Repeat parts (b) through (e) using a support vector machine with a polynomial kernel. Set degree=2. Use the tune() function to select an optimal cost."
   ]
  },
  {
   "cell_type": "code",
   "execution_count": 115,
   "metadata": {},
   "outputs": [],
   "source": [
    "degrees = c(2)\n",
    "costs = c(0.001, 0.01, 0.1, 1, 10, 100, 1000)\n",
    "tune.out = tune(svm, Purchase~., data = OJ[train,], kernel = \"polynomial\", ranges = list(cost=costs, degree = degrees))"
   ]
  },
  {
   "cell_type": "code",
   "execution_count": 116,
   "metadata": {},
   "outputs": [
    {
     "data": {
      "text/plain": [
       "\n",
       "Parameter tuning of 'svm':\n",
       "\n",
       "- sampling method: 10-fold cross validation \n",
       "\n",
       "- best parameters:\n",
       " cost degree\n",
       "   10      2\n",
       "\n",
       "- best performance: 0.17125 \n",
       "\n",
       "- Detailed performance results:\n",
       "   cost degree   error dispersion\n",
       "1 1e-03      2 0.38250 0.03872983\n",
       "2 1e-02      2 0.38250 0.03872983\n",
       "3 1e-01      2 0.33000 0.04257347\n",
       "4 1e+00      2 0.19750 0.03162278\n",
       "5 1e+01      2 0.17125 0.03729108\n",
       "6 1e+02      2 0.17375 0.03884174\n",
       "7 1e+03      2 0.17250 0.04669642\n"
      ]
     },
     "metadata": {},
     "output_type": "display_data"
    }
   ],
   "source": [
    "summary(tune.out)"
   ]
  },
  {
   "cell_type": "markdown",
   "metadata": {},
   "source": [
    "### Comment\n",
    "* By considering a fixed degree = 2, we have obtained the optimal cost = 10."
   ]
  },
  {
   "cell_type": "code",
   "execution_count": 117,
   "metadata": {},
   "outputs": [
    {
     "data": {
      "text/plain": [
       "       truth\n",
       "predict  CH  MM\n",
       "     CH 450  72\n",
       "     MM  44 234"
      ]
     },
     "metadata": {},
     "output_type": "display_data"
    }
   ],
   "source": [
    "bestmod = tune.out$best.model\n",
    "ypred = predict(bestmod, OJ[train,])\n",
    "table(predict=ypred, truth=OJ[train,]$Purchase)"
   ]
  },
  {
   "cell_type": "code",
   "execution_count": 118,
   "metadata": {},
   "outputs": [
    {
     "name": "stdout",
     "output_type": "stream",
     "text": [
      "train_error_rate:  0.145"
     ]
    }
   ],
   "source": [
    "train_error_rate = (44+72)/length(ypred)\n",
    "cat('train_error_rate: ', train_error_rate)"
   ]
  },
  {
   "cell_type": "code",
   "execution_count": 119,
   "metadata": {},
   "outputs": [
    {
     "data": {
      "text/plain": [
       "       truth\n",
       "predict  CH  MM\n",
       "     CH 140  31\n",
       "     MM  19  80"
      ]
     },
     "metadata": {},
     "output_type": "display_data"
    }
   ],
   "source": [
    "ypred = predict(bestmod, OJ[-train,])\n",
    "table(predict=ypred, truth=OJ[-train,]$Purchase)"
   ]
  },
  {
   "cell_type": "code",
   "execution_count": 121,
   "metadata": {},
   "outputs": [
    {
     "name": "stdout",
     "output_type": "stream",
     "text": [
      "test_error_rate:  0.1851852"
     ]
    }
   ],
   "source": [
    "test_error_rate = (19+31)/length(ypred)\n",
    "cat('test_error_rate: ', test_error_rate)"
   ]
  },
  {
   "cell_type": "markdown",
   "metadata": {},
   "source": [
    "### Comment\n",
    "* train_error_rate:  0.145 and test_error_rate:  0.1851852"
   ]
  },
  {
   "cell_type": "markdown",
   "metadata": {},
   "source": [
    "### (h) Overall, which approach seems to give the best results on this data?"
   ]
  },
  {
   "cell_type": "markdown",
   "metadata": {},
   "source": [
    "* The support vector classifier with a cost = 0.01 is the best model obtained. It yields a test_error_rate = 0.1814, which beats all other models"
   ]
  }
 ],
 "metadata": {
  "kernelspec": {
   "display_name": "R",
   "language": "R",
   "name": "ir"
  },
  "language_info": {
   "codemirror_mode": "r",
   "file_extension": ".r",
   "mimetype": "text/x-r-source",
   "name": "R",
   "pygments_lexer": "r",
   "version": "3.5.1"
  }
 },
 "nbformat": 4,
 "nbformat_minor": 2
}
